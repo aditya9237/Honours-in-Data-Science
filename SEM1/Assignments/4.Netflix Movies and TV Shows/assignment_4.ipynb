{
 "cells": [
  {
   "cell_type": "markdown",
   "metadata": {},
   "source": [
    "## Assignment 4\n",
    "Overview :\n",
    "<br>Use Netflix Movies and TV Shows dataset from Kaggle and perform following\n",
    "operation :\n",
    "1. Make a visualization showing the total number of movies watched by children\n",
    "2. Make a visualization showing the total number of standup comedies\n",
    "3. Make a visualization showing most watched shows.\n",
    "4. Make a visualization showing highest rated show    "
   ]
  },
  {
   "cell_type": "code",
   "execution_count": 59,
   "metadata": {},
   "outputs": [],
   "source": [
    "import pandas as pd\n",
    "import seaborn as sns\n",
    "sns.set(style=\"darkgrid\")"
   ]
  },
  {
   "cell_type": "code",
   "execution_count": 4,
   "metadata": {},
   "outputs": [],
   "source": [
    "import warnings\n",
    "warnings.filterwarnings('ignore')"
   ]
  },
  {
   "cell_type": "code",
   "execution_count": 5,
   "metadata": {},
   "outputs": [],
   "source": [
    "df_netflix = pd.read_csv('netflix_titles.csv')"
   ]
  },
  {
   "cell_type": "code",
   "execution_count": 18,
   "metadata": {},
   "outputs": [
    {
     "data": {
      "text/html": [
       "<div>\n",
       "<style scoped>\n",
       "    .dataframe tbody tr th:only-of-type {\n",
       "        vertical-align: middle;\n",
       "    }\n",
       "\n",
       "    .dataframe tbody tr th {\n",
       "        vertical-align: top;\n",
       "    }\n",
       "\n",
       "    .dataframe thead th {\n",
       "        text-align: right;\n",
       "    }\n",
       "</style>\n",
       "<table border=\"1\" class=\"dataframe\">\n",
       "  <thead>\n",
       "    <tr style=\"text-align: right;\">\n",
       "      <th></th>\n",
       "      <th>show_id</th>\n",
       "      <th>type</th>\n",
       "      <th>title</th>\n",
       "      <th>director</th>\n",
       "      <th>cast</th>\n",
       "      <th>country</th>\n",
       "      <th>date_added</th>\n",
       "      <th>release_year</th>\n",
       "      <th>rating</th>\n",
       "      <th>duration</th>\n",
       "      <th>listed_in</th>\n",
       "      <th>description</th>\n",
       "      <th>date</th>\n",
       "    </tr>\n",
       "  </thead>\n",
       "  <tbody>\n",
       "    <tr>\n",
       "      <th>1920</th>\n",
       "      <td>s1921</td>\n",
       "      <td>TV Show</td>\n",
       "      <td>Edgar Rice Burroughs' Tarzan and Jane</td>\n",
       "      <td>NaN</td>\n",
       "      <td>Marci T. House, Michael Dobson, Omari Newton, ...</td>\n",
       "      <td>NaN</td>\n",
       "      <td>October 12, 2018</td>\n",
       "      <td>2018</td>\n",
       "      <td>TV-Y7</td>\n",
       "      <td>2 Seasons</td>\n",
       "      <td>Crime TV Shows, Kids' TV</td>\n",
       "      <td>Saved from a plane crash and given supernatura...</td>\n",
       "      <td>2018-10-12</td>\n",
       "    </tr>\n",
       "    <tr>\n",
       "      <th>7468</th>\n",
       "      <td>s7469</td>\n",
       "      <td>Movie</td>\n",
       "      <td>Walk. Ride. Rodeo.</td>\n",
       "      <td>Conor Allyn</td>\n",
       "      <td>Spencer Locke, Missi Pyle, Sherri Shepherd, Ba...</td>\n",
       "      <td>United States</td>\n",
       "      <td>March 8, 2019</td>\n",
       "      <td>2019</td>\n",
       "      <td>TV-PG</td>\n",
       "      <td>100 min</td>\n",
       "      <td>Children &amp; Family Movies, Dramas</td>\n",
       "      <td>In the wake of an accident that leaves her par...</td>\n",
       "      <td>2019-03-08</td>\n",
       "    </tr>\n",
       "    <tr>\n",
       "      <th>341</th>\n",
       "      <td>s342</td>\n",
       "      <td>TV Show</td>\n",
       "      <td>Aggretsuko</td>\n",
       "      <td>NaN</td>\n",
       "      <td>Kaolip, Komegumi Koiwasaki, Maki Tsuruta, Soht...</td>\n",
       "      <td>Japan</td>\n",
       "      <td>August 27, 2020</td>\n",
       "      <td>2020</td>\n",
       "      <td>TV-14</td>\n",
       "      <td>3 Seasons</td>\n",
       "      <td>Anime Series, International TV Shows</td>\n",
       "      <td>Frustrated with her thankless office job, Rets...</td>\n",
       "      <td>2020-08-27</td>\n",
       "    </tr>\n",
       "    <tr>\n",
       "      <th>496</th>\n",
       "      <td>s497</td>\n",
       "      <td>Movie</td>\n",
       "      <td>An Ordinary Man</td>\n",
       "      <td>Brad Silberling</td>\n",
       "      <td>Ben Kingsley, Hera Hilmar, Peter Serafinowicz</td>\n",
       "      <td>Serbia, United States</td>\n",
       "      <td>October 1, 2020</td>\n",
       "      <td>2017</td>\n",
       "      <td>R</td>\n",
       "      <td>91 min</td>\n",
       "      <td>Dramas, Thrillers</td>\n",
       "      <td>A war criminal in hiding begins to suspect tha...</td>\n",
       "      <td>2020-10-01</td>\n",
       "    </tr>\n",
       "    <tr>\n",
       "      <th>7493</th>\n",
       "      <td>s7494</td>\n",
       "      <td>TV Show</td>\n",
       "      <td>Way Back into Love</td>\n",
       "      <td>NaN</td>\n",
       "      <td>June Tsai, Ray Chang, Lung Shao-hua, Yi-Wen Ye...</td>\n",
       "      <td>Taiwan</td>\n",
       "      <td>December 24, 2018</td>\n",
       "      <td>2011</td>\n",
       "      <td>TV-14</td>\n",
       "      <td>1 Season</td>\n",
       "      <td>International TV Shows, Romantic TV Shows, TV ...</td>\n",
       "      <td>After years in the U.S., a Taiwanese immigrant...</td>\n",
       "      <td>2018-12-24</td>\n",
       "    </tr>\n",
       "  </tbody>\n",
       "</table>\n",
       "</div>"
      ],
      "text/plain": [
       "     show_id     type                                  title         director  \\\n",
       "1920   s1921  TV Show  Edgar Rice Burroughs' Tarzan and Jane              NaN   \n",
       "7468   s7469    Movie                     Walk. Ride. Rodeo.      Conor Allyn   \n",
       "341     s342  TV Show                             Aggretsuko              NaN   \n",
       "496     s497    Movie                        An Ordinary Man  Brad Silberling   \n",
       "7493   s7494  TV Show                     Way Back into Love              NaN   \n",
       "\n",
       "                                                   cast  \\\n",
       "1920  Marci T. House, Michael Dobson, Omari Newton, ...   \n",
       "7468  Spencer Locke, Missi Pyle, Sherri Shepherd, Ba...   \n",
       "341   Kaolip, Komegumi Koiwasaki, Maki Tsuruta, Soht...   \n",
       "496       Ben Kingsley, Hera Hilmar, Peter Serafinowicz   \n",
       "7493  June Tsai, Ray Chang, Lung Shao-hua, Yi-Wen Ye...   \n",
       "\n",
       "                    country         date_added  release_year rating  \\\n",
       "1920                    NaN   October 12, 2018          2018  TV-Y7   \n",
       "7468          United States      March 8, 2019          2019  TV-PG   \n",
       "341                   Japan    August 27, 2020          2020  TV-14   \n",
       "496   Serbia, United States    October 1, 2020          2017      R   \n",
       "7493                 Taiwan  December 24, 2018          2011  TV-14   \n",
       "\n",
       "       duration                                          listed_in  \\\n",
       "1920  2 Seasons                           Crime TV Shows, Kids' TV   \n",
       "7468    100 min                   Children & Family Movies, Dramas   \n",
       "341   3 Seasons               Anime Series, International TV Shows   \n",
       "496      91 min                                  Dramas, Thrillers   \n",
       "7493   1 Season  International TV Shows, Romantic TV Shows, TV ...   \n",
       "\n",
       "                                            description       date  \n",
       "1920  Saved from a plane crash and given supernatura... 2018-10-12  \n",
       "7468  In the wake of an accident that leaves her par... 2019-03-08  \n",
       "341   Frustrated with her thankless office job, Rets... 2020-08-27  \n",
       "496   A war criminal in hiding begins to suspect tha... 2020-10-01  \n",
       "7493  After years in the U.S., a Taiwanese immigrant... 2018-12-24  "
      ]
     },
     "execution_count": 18,
     "metadata": {},
     "output_type": "execute_result"
    }
   ],
   "source": [
    "df_netflix.sample(5)"
   ]
  },
  {
   "cell_type": "code",
   "execution_count": 19,
   "metadata": {},
   "outputs": [
    {
     "data": {
      "text/plain": [
       "show_id                 object\n",
       "type                    object\n",
       "title                   object\n",
       "director                object\n",
       "cast                    object\n",
       "country                 object\n",
       "date_added              object\n",
       "release_year             int64\n",
       "rating                  object\n",
       "duration                object\n",
       "listed_in               object\n",
       "description             object\n",
       "date            datetime64[ns]\n",
       "dtype: object"
      ]
     },
     "execution_count": 19,
     "metadata": {},
     "output_type": "execute_result"
    }
   ],
   "source": [
    "df_netflix.dtypes"
   ]
  },
  {
   "cell_type": "code",
   "execution_count": 20,
   "metadata": {},
   "outputs": [],
   "source": [
    "df_netflix['date_added'] =df_netflix['date_added'].str.strip()"
   ]
  },
  {
   "cell_type": "code",
   "execution_count": 21,
   "metadata": {},
   "outputs": [],
   "source": [
    "df_netflix['date'] = pd.to_datetime(df_netflix['date_added'], format=\"%B %d, %Y\")"
   ]
  },
  {
   "cell_type": "code",
   "execution_count": 22,
   "metadata": {},
   "outputs": [
    {
     "data": {
      "text/plain": [
       "show_id                 object\n",
       "type                    object\n",
       "title                   object\n",
       "director                object\n",
       "cast                    object\n",
       "country                 object\n",
       "date_added              object\n",
       "release_year             int64\n",
       "rating                  object\n",
       "duration                object\n",
       "listed_in               object\n",
       "description             object\n",
       "date            datetime64[ns]\n",
       "dtype: object"
      ]
     },
     "execution_count": 22,
     "metadata": {},
     "output_type": "execute_result"
    }
   ],
   "source": [
    "df_netflix.dtypes"
   ]
  },
  {
   "cell_type": "code",
   "execution_count": 23,
   "metadata": {},
   "outputs": [
    {
     "data": {
      "text/html": [
       "<div>\n",
       "<style scoped>\n",
       "    .dataframe tbody tr th:only-of-type {\n",
       "        vertical-align: middle;\n",
       "    }\n",
       "\n",
       "    .dataframe tbody tr th {\n",
       "        vertical-align: top;\n",
       "    }\n",
       "\n",
       "    .dataframe thead th {\n",
       "        text-align: right;\n",
       "    }\n",
       "</style>\n",
       "<table border=\"1\" class=\"dataframe\">\n",
       "  <thead>\n",
       "    <tr style=\"text-align: right;\">\n",
       "      <th></th>\n",
       "      <th>count</th>\n",
       "      <th>mean</th>\n",
       "      <th>std</th>\n",
       "      <th>min</th>\n",
       "      <th>25%</th>\n",
       "      <th>50%</th>\n",
       "      <th>75%</th>\n",
       "      <th>max</th>\n",
       "    </tr>\n",
       "  </thead>\n",
       "  <tbody>\n",
       "    <tr>\n",
       "      <th>release_year</th>\n",
       "      <td>7787.0</td>\n",
       "      <td>2013.93258</td>\n",
       "      <td>8.757395</td>\n",
       "      <td>1925.0</td>\n",
       "      <td>2013.0</td>\n",
       "      <td>2017.0</td>\n",
       "      <td>2018.0</td>\n",
       "      <td>2021.0</td>\n",
       "    </tr>\n",
       "  </tbody>\n",
       "</table>\n",
       "</div>"
      ],
      "text/plain": [
       "               count        mean       std     min     25%     50%     75%  \\\n",
       "release_year  7787.0  2013.93258  8.757395  1925.0  2013.0  2017.0  2018.0   \n",
       "\n",
       "                 max  \n",
       "release_year  2021.0  "
      ]
     },
     "execution_count": 23,
     "metadata": {},
     "output_type": "execute_result"
    }
   ],
   "source": [
    "df_netflix.describe().transpose()"
   ]
  },
  {
   "cell_type": "code",
   "execution_count": 24,
   "metadata": {},
   "outputs": [
    {
     "name": "stdout",
     "output_type": "stream",
     "text": [
      "<class 'pandas.core.frame.DataFrame'>\n",
      "RangeIndex: 7787 entries, 0 to 7786\n",
      "Data columns (total 13 columns):\n",
      " #   Column        Non-Null Count  Dtype         \n",
      "---  ------        --------------  -----         \n",
      " 0   show_id       7787 non-null   object        \n",
      " 1   type          7787 non-null   object        \n",
      " 2   title         7787 non-null   object        \n",
      " 3   director      5398 non-null   object        \n",
      " 4   cast          7069 non-null   object        \n",
      " 5   country       7280 non-null   object        \n",
      " 6   date_added    7777 non-null   object        \n",
      " 7   release_year  7787 non-null   int64         \n",
      " 8   rating        7780 non-null   object        \n",
      " 9   duration      7787 non-null   object        \n",
      " 10  listed_in     7787 non-null   object        \n",
      " 11  description   7787 non-null   object        \n",
      " 12  date          7777 non-null   datetime64[ns]\n",
      "dtypes: datetime64[ns](1), int64(1), object(11)\n",
      "memory usage: 791.0+ KB\n"
     ]
    }
   ],
   "source": [
    "df_netflix.info()"
   ]
  },
  {
   "cell_type": "code",
   "execution_count": 25,
   "metadata": {},
   "outputs": [
    {
     "data": {
      "text/plain": [
       "show_id            0\n",
       "type               0\n",
       "title              0\n",
       "director        2389\n",
       "cast             718\n",
       "country          507\n",
       "date_added        10\n",
       "release_year       0\n",
       "rating             7\n",
       "duration           0\n",
       "listed_in          0\n",
       "description        0\n",
       "date              10\n",
       "dtype: int64"
      ]
     },
     "execution_count": 25,
     "metadata": {},
     "output_type": "execute_result"
    }
   ],
   "source": [
    "df_netflix.isnull().sum()"
   ]
  },
  {
   "cell_type": "code",
   "execution_count": 26,
   "metadata": {},
   "outputs": [
    {
     "name": "stdout",
     "output_type": "stream",
     "text": [
      "rows/instances: 7787\n",
      "\n",
      "columns/features: 13\n",
      "\n",
      "column names: Index(['show_id', 'type', 'title', 'director', 'cast', 'country', 'date_added',\n",
      "       'release_year', 'rating', 'duration', 'listed_in', 'description',\n",
      "       'date'],\n",
      "      dtype='object')\n",
      "\n",
      "Total missing values: 3641\n",
      "\n",
      "Unique values: \n",
      "show_id         7787\n",
      "type               2\n",
      "title           7787\n",
      "director        4049\n",
      "cast            6831\n",
      "country          681\n",
      "date_added      1512\n",
      "release_year      73\n",
      "rating            14\n",
      "duration         216\n",
      "listed_in        492\n",
      "description     7769\n",
      "date            1512\n",
      "dtype: int64\n"
     ]
    }
   ],
   "source": [
    "print(f\"rows/instances: {df_netflix.shape[0]}\")\n",
    "print(f\"\\ncolumns/features: {df_netflix.shape[1]}\")\n",
    "print(f\"\\ncolumn names: {df_netflix.columns}\")\n",
    "print(f\"\\nTotal missing values: {df_netflix.isnull().values.sum()}\")\n",
    "print(f\"\\nUnique values: \\n{df_netflix.nunique()}\")"
   ]
  },
  {
   "cell_type": "markdown",
   "metadata": {},
   "source": [
    "## Visualization"
   ]
  },
  {
   "cell_type": "markdown",
   "metadata": {},
   "source": [
    "## 1.Visualization showing the total number of movies watched by children"
   ]
  },
  {
   "cell_type": "code",
   "execution_count": 36,
   "metadata": {},
   "outputs": [
    {
     "name": "stdout",
     "output_type": "stream",
     "text": [
      "kids_filter: <class 'pandas.core.series.Series'>\n",
      "0       False\n",
      "1       False\n",
      "2       False\n",
      "3       False\n",
      "4       False\n",
      "        ...  \n",
      "7782    False\n",
      "7783    False\n",
      "7784    False\n",
      "7785    False\n",
      "7786    False\n",
      "Name: listed_in, Length: 7787, dtype: bool\n"
     ]
    }
   ],
   "source": [
    "kids_filter_movie = df_netflix['listed_in'].str.contains(\"Children & Family Movies\", case=False, regex=False)\n",
    "\n",
    "kids_filter_tv = df_netflix['listed_in'].str.contains(\"Kids' TV\", case=False, regex=False)\n",
    "print(f\"kids_filter: {type(kids_filter_tv)}\\n{kids_filter_tv}\")"
   ]
  },
  {
   "cell_type": "code",
   "execution_count": 37,
   "metadata": {},
   "outputs": [],
   "source": [
    "df_kids = df_netflix[kids_filter_movie | kids_filter_tv]"
   ]
  },
  {
   "cell_type": "code",
   "execution_count": 38,
   "metadata": {},
   "outputs": [
    {
     "data": {
      "text/html": [
       "<div>\n",
       "<style scoped>\n",
       "    .dataframe tbody tr th:only-of-type {\n",
       "        vertical-align: middle;\n",
       "    }\n",
       "\n",
       "    .dataframe tbody tr th {\n",
       "        vertical-align: top;\n",
       "    }\n",
       "\n",
       "    .dataframe thead th {\n",
       "        text-align: right;\n",
       "    }\n",
       "</style>\n",
       "<table border=\"1\" class=\"dataframe\">\n",
       "  <thead>\n",
       "    <tr style=\"text-align: right;\">\n",
       "      <th></th>\n",
       "      <th>show_id</th>\n",
       "      <th>type</th>\n",
       "      <th>title</th>\n",
       "      <th>director</th>\n",
       "      <th>cast</th>\n",
       "      <th>country</th>\n",
       "      <th>date_added</th>\n",
       "      <th>release_year</th>\n",
       "      <th>rating</th>\n",
       "      <th>duration</th>\n",
       "      <th>listed_in</th>\n",
       "      <th>description</th>\n",
       "      <th>date</th>\n",
       "    </tr>\n",
       "  </thead>\n",
       "  <tbody>\n",
       "    <tr>\n",
       "      <th>108</th>\n",
       "      <td>s109</td>\n",
       "      <td>TV Show</td>\n",
       "      <td>3Below: Tales of Arcadia</td>\n",
       "      <td>NaN</td>\n",
       "      <td>Tatiana Maslany, Diego Luna, Nick Offerman, Ni...</td>\n",
       "      <td>United States</td>\n",
       "      <td>July 12, 2019</td>\n",
       "      <td>2019</td>\n",
       "      <td>TV-Y7</td>\n",
       "      <td>2 Seasons</td>\n",
       "      <td>Kids' TV, TV Action &amp; Adventure, TV Sci-Fi &amp; F...</td>\n",
       "      <td>After crash-landing on Earth, two royal teen a...</td>\n",
       "      <td>2019-07-12</td>\n",
       "    </tr>\n",
       "    <tr>\n",
       "      <th>111</th>\n",
       "      <td>s112</td>\n",
       "      <td>TV Show</td>\n",
       "      <td>44 Cats</td>\n",
       "      <td>NaN</td>\n",
       "      <td>Sarah Natochenny, Suzy Myers, Simona Berman, E...</td>\n",
       "      <td>Italy</td>\n",
       "      <td>October 1, 2020</td>\n",
       "      <td>2018</td>\n",
       "      <td>TV-Y7</td>\n",
       "      <td>2 Seasons</td>\n",
       "      <td>Kids' TV</td>\n",
       "      <td>Paw-esome tales abound when singing furry frie...</td>\n",
       "      <td>2020-10-01</td>\n",
       "    </tr>\n",
       "    <tr>\n",
       "      <th>113</th>\n",
       "      <td>s114</td>\n",
       "      <td>Movie</td>\n",
       "      <td>48 Christmas Wishes</td>\n",
       "      <td>Marco Deufemia, Justin G. Dyck</td>\n",
       "      <td>Khiyla Aynne, Noah Dyer, Maya Franzoi, Clara K...</td>\n",
       "      <td>Canada</td>\n",
       "      <td>December 20, 2017</td>\n",
       "      <td>2017</td>\n",
       "      <td>TV-G</td>\n",
       "      <td>84 min</td>\n",
       "      <td>Children &amp; Family Movies, Comedies</td>\n",
       "      <td>When a small town's letters to Santa accidenta...</td>\n",
       "      <td>2017-12-20</td>\n",
       "    </tr>\n",
       "    <tr>\n",
       "      <th>145</th>\n",
       "      <td>s146</td>\n",
       "      <td>Movie</td>\n",
       "      <td>A 2nd Chance</td>\n",
       "      <td>Clay Glen</td>\n",
       "      <td>Nina Pearce, Adam Tuominen, Emily Morris, Amy ...</td>\n",
       "      <td>Australia</td>\n",
       "      <td>July 1, 2017</td>\n",
       "      <td>2011</td>\n",
       "      <td>PG</td>\n",
       "      <td>95 min</td>\n",
       "      <td>Children &amp; Family Movies, Dramas, Sports Movies</td>\n",
       "      <td>A gymnast lacks the confidence she needs to re...</td>\n",
       "      <td>2017-07-01</td>\n",
       "    </tr>\n",
       "    <tr>\n",
       "      <th>147</th>\n",
       "      <td>s148</td>\n",
       "      <td>Movie</td>\n",
       "      <td>A Babysitter's Guide to Monster Hunting</td>\n",
       "      <td>Rachel Talalay</td>\n",
       "      <td>Tamara Smart, Oona Laurence, Tom Felton, Troy ...</td>\n",
       "      <td>United States</td>\n",
       "      <td>October 15, 2020</td>\n",
       "      <td>2020</td>\n",
       "      <td>TV-PG</td>\n",
       "      <td>99 min</td>\n",
       "      <td>Children &amp; Family Movies</td>\n",
       "      <td>Recruited by a secret society of babysitters, ...</td>\n",
       "      <td>2020-10-15</td>\n",
       "    </tr>\n",
       "  </tbody>\n",
       "</table>\n",
       "</div>"
      ],
      "text/plain": [
       "    show_id     type                                    title  \\\n",
       "108    s109  TV Show                 3Below: Tales of Arcadia   \n",
       "111    s112  TV Show                                  44 Cats   \n",
       "113    s114    Movie                      48 Christmas Wishes   \n",
       "145    s146    Movie                             A 2nd Chance   \n",
       "147    s148    Movie  A Babysitter's Guide to Monster Hunting   \n",
       "\n",
       "                           director  \\\n",
       "108                             NaN   \n",
       "111                             NaN   \n",
       "113  Marco Deufemia, Justin G. Dyck   \n",
       "145                       Clay Glen   \n",
       "147                  Rachel Talalay   \n",
       "\n",
       "                                                  cast        country  \\\n",
       "108  Tatiana Maslany, Diego Luna, Nick Offerman, Ni...  United States   \n",
       "111  Sarah Natochenny, Suzy Myers, Simona Berman, E...          Italy   \n",
       "113  Khiyla Aynne, Noah Dyer, Maya Franzoi, Clara K...         Canada   \n",
       "145  Nina Pearce, Adam Tuominen, Emily Morris, Amy ...      Australia   \n",
       "147  Tamara Smart, Oona Laurence, Tom Felton, Troy ...  United States   \n",
       "\n",
       "            date_added  release_year rating   duration  \\\n",
       "108      July 12, 2019          2019  TV-Y7  2 Seasons   \n",
       "111    October 1, 2020          2018  TV-Y7  2 Seasons   \n",
       "113  December 20, 2017          2017   TV-G     84 min   \n",
       "145       July 1, 2017          2011     PG     95 min   \n",
       "147   October 15, 2020          2020  TV-PG     99 min   \n",
       "\n",
       "                                             listed_in  \\\n",
       "108  Kids' TV, TV Action & Adventure, TV Sci-Fi & F...   \n",
       "111                                           Kids' TV   \n",
       "113                 Children & Family Movies, Comedies   \n",
       "145    Children & Family Movies, Dramas, Sports Movies   \n",
       "147                           Children & Family Movies   \n",
       "\n",
       "                                           description       date  \n",
       "108  After crash-landing on Earth, two royal teen a... 2019-07-12  \n",
       "111  Paw-esome tales abound when singing furry frie... 2020-10-01  \n",
       "113  When a small town's letters to Santa accidenta... 2017-12-20  \n",
       "145  A gymnast lacks the confidence she needs to re... 2017-07-01  \n",
       "147  Recruited by a secret society of babysitters, ... 2020-10-15  "
      ]
     },
     "execution_count": 38,
     "metadata": {},
     "output_type": "execute_result"
    }
   ],
   "source": [
    "df_kids.head()"
   ]
  },
  {
   "cell_type": "code",
   "execution_count": 60,
   "metadata": {},
   "outputs": [
    {
     "name": "stdout",
     "output_type": "stream",
     "text": [
      "Movie      532\n",
      "TV Show    414\n",
      "Name: type, dtype: int64\n"
     ]
    },
    {
     "data": {
      "image/png": "[encoded data removed]",
      "text/plain": [
       "<Figure size 432x288 with 1 Axes>"
      ]
     },
     "metadata": {},
     "output_type": "display_data"
    }
   ],
   "source": [
    "h = sns.countplot(x=\"type\",\n",
    "                data=df_kids)\n",
    "print(df_kids[\"type\"].value_counts())"
   ]
  },
  {
   "cell_type": "markdown",
   "metadata": {},
   "source": [
    "## 2.Make a visualization showing the total number of standup comedies"
   ]
  },
  {
   "cell_type": "code",
   "execution_count": 49,
   "metadata": {},
   "outputs": [
    {
     "name": "stdout",
     "output_type": "stream",
     "text": [
      "stand_up_filter: <class 'pandas.core.series.Series'>\n",
      "0       False\n",
      "1       False\n",
      "2       False\n",
      "3       False\n",
      "4       False\n",
      "        ...  \n",
      "7782    False\n",
      "7783    False\n",
      "7784    False\n",
      "7785    False\n",
      "7786    False\n",
      "Name: listed_in, Length: 7787, dtype: bool\n"
     ]
    }
   ],
   "source": [
    "df_netflix.listed_in.unique()\n",
    "\n",
    "stand_up_filter = df_netflix['listed_in'].str.contains(\"Stand-Up Comedy\", case=False, regex=False)\n",
    "print(f\"stand_up_filter: {type(stand_up_filter)}\\n{stand_up_filter}\")"
   ]
  },
  {
   "cell_type": "code",
   "execution_count": 51,
   "metadata": {},
   "outputs": [
    {
     "data": {
      "text/html": [
       "<div>\n",
       "<style scoped>\n",
       "    .dataframe tbody tr th:only-of-type {\n",
       "        vertical-align: middle;\n",
       "    }\n",
       "\n",
       "    .dataframe tbody tr th {\n",
       "        vertical-align: top;\n",
       "    }\n",
       "\n",
       "    .dataframe thead th {\n",
       "        text-align: right;\n",
       "    }\n",
       "</style>\n",
       "<table border=\"1\" class=\"dataframe\">\n",
       "  <thead>\n",
       "    <tr style=\"text-align: right;\">\n",
       "      <th></th>\n",
       "      <th>show_id</th>\n",
       "      <th>type</th>\n",
       "      <th>title</th>\n",
       "      <th>director</th>\n",
       "      <th>cast</th>\n",
       "      <th>country</th>\n",
       "      <th>date_added</th>\n",
       "      <th>release_year</th>\n",
       "      <th>rating</th>\n",
       "      <th>duration</th>\n",
       "      <th>listed_in</th>\n",
       "      <th>description</th>\n",
       "      <th>date</th>\n",
       "    </tr>\n",
       "  </thead>\n",
       "  <tbody>\n",
       "    <tr>\n",
       "      <th>197</th>\n",
       "      <td>s198</td>\n",
       "      <td>TV Show</td>\n",
       "      <td>A Little Help with Carol Burnett</td>\n",
       "      <td>NaN</td>\n",
       "      <td>Carol Burnett, Russell Peters, Mark Cuban, Tar...</td>\n",
       "      <td>United States</td>\n",
       "      <td>May 4, 2018</td>\n",
       "      <td>2018</td>\n",
       "      <td>TV-G</td>\n",
       "      <td>1 Season</td>\n",
       "      <td>Stand-Up Comedy &amp; Talk Shows, TV Comedies</td>\n",
       "      <td>Comedy icon Carol Burnett returns to TV with a...</td>\n",
       "      <td>2018-05-04</td>\n",
       "    </tr>\n",
       "    <tr>\n",
       "      <th>220</th>\n",
       "      <td>s221</td>\n",
       "      <td>Movie</td>\n",
       "      <td>A Russell Peters Christmas</td>\n",
       "      <td>Henry Sarwer-Foner</td>\n",
       "      <td>Russell Peters, Pamela Anderson, Michael Bublé...</td>\n",
       "      <td>Canada</td>\n",
       "      <td>November 1, 2013</td>\n",
       "      <td>2011</td>\n",
       "      <td>NR</td>\n",
       "      <td>44 min</td>\n",
       "      <td>Stand-Up Comedy</td>\n",
       "      <td>Inspired by the variety shows of the 1970s, \"A...</td>\n",
       "      <td>2013-11-01</td>\n",
       "    </tr>\n",
       "    <tr>\n",
       "      <th>284</th>\n",
       "      <td>s285</td>\n",
       "      <td>TV Show</td>\n",
       "      <td>Abnormal Summit</td>\n",
       "      <td>Jung-ah Im, Seung-uk Jo</td>\n",
       "      <td>Hyun-moo Jun, Si-kyung Sung, Se-yoon Yoo</td>\n",
       "      <td>South Korea</td>\n",
       "      <td>August 4, 2017</td>\n",
       "      <td>2017</td>\n",
       "      <td>TV-PG</td>\n",
       "      <td>2 Seasons</td>\n",
       "      <td>International TV Shows, Korean TV Shows, Stand...</td>\n",
       "      <td>Led by a trio of Korean celebs, a multinationa...</td>\n",
       "      <td>2017-08-04</td>\n",
       "    </tr>\n",
       "    <tr>\n",
       "      <th>305</th>\n",
       "      <td>s306</td>\n",
       "      <td>Movie</td>\n",
       "      <td>Adam Devine: Best Time of Our Lives</td>\n",
       "      <td>Jay Karas</td>\n",
       "      <td>Adam Devine</td>\n",
       "      <td>United States</td>\n",
       "      <td>June 18, 2019</td>\n",
       "      <td>2019</td>\n",
       "      <td>TV-MA</td>\n",
       "      <td>59 min</td>\n",
       "      <td>Stand-Up Comedy</td>\n",
       "      <td>Frenetic comic Adam Devine talks teen awkwardn...</td>\n",
       "      <td>2019-06-18</td>\n",
       "    </tr>\n",
       "    <tr>\n",
       "      <th>307</th>\n",
       "      <td>s308</td>\n",
       "      <td>Movie</td>\n",
       "      <td>ADAM SANDLER 100% FRESH</td>\n",
       "      <td>Steve Brill</td>\n",
       "      <td>Adam Sandler</td>\n",
       "      <td>United States</td>\n",
       "      <td>October 23, 2018</td>\n",
       "      <td>2018</td>\n",
       "      <td>TV-MA</td>\n",
       "      <td>74 min</td>\n",
       "      <td>Stand-Up Comedy</td>\n",
       "      <td>From \"Heroes\" to \"Ice Cream Ladies\" – Adam San...</td>\n",
       "      <td>2018-10-23</td>\n",
       "    </tr>\n",
       "  </tbody>\n",
       "</table>\n",
       "</div>"
      ],
      "text/plain": [
       "    show_id     type                                title  \\\n",
       "197    s198  TV Show     A Little Help with Carol Burnett   \n",
       "220    s221    Movie           A Russell Peters Christmas   \n",
       "284    s285  TV Show                      Abnormal Summit   \n",
       "305    s306    Movie  Adam Devine: Best Time of Our Lives   \n",
       "307    s308    Movie              ADAM SANDLER 100% FRESH   \n",
       "\n",
       "                    director  \\\n",
       "197                      NaN   \n",
       "220       Henry Sarwer-Foner   \n",
       "284  Jung-ah Im, Seung-uk Jo   \n",
       "305                Jay Karas   \n",
       "307              Steve Brill   \n",
       "\n",
       "                                                  cast        country  \\\n",
       "197  Carol Burnett, Russell Peters, Mark Cuban, Tar...  United States   \n",
       "220  Russell Peters, Pamela Anderson, Michael Bublé...         Canada   \n",
       "284           Hyun-moo Jun, Si-kyung Sung, Se-yoon Yoo    South Korea   \n",
       "305                                        Adam Devine  United States   \n",
       "307                                       Adam Sandler  United States   \n",
       "\n",
       "           date_added  release_year rating   duration  \\\n",
       "197       May 4, 2018          2018   TV-G   1 Season   \n",
       "220  November 1, 2013          2011     NR     44 min   \n",
       "284    August 4, 2017          2017  TV-PG  2 Seasons   \n",
       "305     June 18, 2019          2019  TV-MA     59 min   \n",
       "307  October 23, 2018          2018  TV-MA     74 min   \n",
       "\n",
       "                                             listed_in  \\\n",
       "197          Stand-Up Comedy & Talk Shows, TV Comedies   \n",
       "220                                    Stand-Up Comedy   \n",
       "284  International TV Shows, Korean TV Shows, Stand...   \n",
       "305                                    Stand-Up Comedy   \n",
       "307                                    Stand-Up Comedy   \n",
       "\n",
       "                                           description       date  \n",
       "197  Comedy icon Carol Burnett returns to TV with a... 2018-05-04  \n",
       "220  Inspired by the variety shows of the 1970s, \"A... 2013-11-01  \n",
       "284  Led by a trio of Korean celebs, a multinationa... 2017-08-04  \n",
       "305  Frenetic comic Adam Devine talks teen awkwardn... 2019-06-18  \n",
       "307  From \"Heroes\" to \"Ice Cream Ladies\" – Adam San... 2018-10-23  "
      ]
     },
     "execution_count": 51,
     "metadata": {},
     "output_type": "execute_result"
    }
   ],
   "source": [
    "df_standup = df_netflix[stand_up_filter]\n",
    "df_standup.head()"
   ]
  },
  {
   "cell_type": "code",
   "execution_count": 61,
   "metadata": {},
   "outputs": [
    {
     "name": "stdout",
     "output_type": "stream",
     "text": [
      "Total StandUp comedy 381\n"
     ]
    },
    {
     "data": {
      "image/png": "[encoded data removed]",
      "text/plain": [
       "<Figure size 432x288 with 1 Axes>"
      ]
     },
     "metadata": {},
     "output_type": "display_data"
    }
   ],
   "source": [
    "print(\"Total StandUp comedy\",df_standup.shape[0])\n",
    "i = sns.countplot(y=\"listed_in\",data=df_standup);"
   ]
  },
  {
   "cell_type": "markdown",
   "metadata": {},
   "source": [
    "## 3.Make a visualization showing most watched shows."
   ]
  },
  {
   "cell_type": "markdown",
   "metadata": {},
   "source": [
    "## 4.Make a visualization showing highest rated show"
   ]
  },
  {
   "cell_type": "code",
   "execution_count": 67,
   "metadata": {},
   "outputs": [
    {
     "data": {
      "image/png": "[encoded data removed]",
      "text/plain": [
       "<Figure size 864x720 with 1 Axes>"
      ]
     },
     "metadata": {},
     "output_type": "display_data"
    }
   ],
   "source": [
    "plt.figure(figsize=(12,10))\n",
    "ax = sns.countplot(x=\"rating\", data=df_netflix, palette=\"Set2\", order=df_netflix['rating'].value_counts().index[0:15])"
   ]
  },
  {
   "cell_type": "markdown",
   "metadata": {},
   "source": [
    "The largest count of Netflix content is made with a “TV-14” rating. “TV-14” contains material that parents or adult guardians may find unsuitable for children under the age of 14. But the largest count of TV shows is made with a “TV-MA” rating. “TV-MA” is a rating assigned by the TV Parental Guidelines to a television program designed for mature audiences only."
   ]
  },
  {
   "cell_type": "code",
   "execution_count": null,
   "metadata": {},
   "outputs": [],
   "source": []
  }
 ],
 "metadata": {
  "kernelspec": {
   "display_name": "Python 3",
   "language": "python",
   "name": "python3"
  },
  "language_info": {
   "codemirror_mode": {
    "name": "ipython",
    "version": 3
   },
   "file_extension": ".py",
   "mimetype": "text/x-python",
   "name": "python",
   "nbconvert_exporter": "python",
   "pygments_lexer": "ipython3",
   "version": "3.8.5"
  }
 },
 "nbformat": 4,
 "nbformat_minor": 4
}
